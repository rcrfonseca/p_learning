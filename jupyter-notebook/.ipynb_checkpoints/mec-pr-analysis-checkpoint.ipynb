{
 "cells": [
  {
   "cell_type": "code",
   "execution_count": 203,
   "metadata": {},
   "outputs": [],
   "source": [
    "import pandas as pd\n",
    "import seaborn as sns\n",
    "import matplotlib.pyplot as plt"
   ]
  },
  {
   "cell_type": "code",
   "execution_count": 2,
   "metadata": {},
   "outputs": [],
   "source": [
    "%config IPCompleter.greedy=True"
   ]
  },
  {
   "cell_type": "code",
   "execution_count": 73,
   "metadata": {},
   "outputs": [],
   "source": [
    "cel_data = pd.read_excel('./qtd_mec_pr_das_v02.xlsx',names=column_names)\n",
    "column_names = [\"serie\",\n",
    "                \"total_servidores_mec\",\n",
    "                \"total_servidores_mec_das\",\n",
    "                \"total_servidores_pr\",\n",
    "                \"total_servidores_pr_das\"]"
   ]
  },
  {
   "cell_type": "markdown",
   "metadata": {},
   "source": [
    "# Análise Dados Sobre o MEC e PR"
   ]
  },
  {
   "cell_type": "code",
   "execution_count": 74,
   "metadata": {},
   "outputs": [
    {
     "data": {
      "text/html": [
       "<div>\n",
       "<style scoped>\n",
       "    .dataframe tbody tr th:only-of-type {\n",
       "        vertical-align: middle;\n",
       "    }\n",
       "\n",
       "    .dataframe tbody tr th {\n",
       "        vertical-align: top;\n",
       "    }\n",
       "\n",
       "    .dataframe thead th {\n",
       "        text-align: right;\n",
       "    }\n",
       "</style>\n",
       "<table border=\"1\" class=\"dataframe\">\n",
       "  <thead>\n",
       "    <tr style=\"text-align: right;\">\n",
       "      <th></th>\n",
       "      <th>serie</th>\n",
       "      <th>total_servidores_mec</th>\n",
       "      <th>total_servidores_mec_das</th>\n",
       "      <th>total_servidores_pr</th>\n",
       "      <th>total_servidores_pr_das</th>\n",
       "    </tr>\n",
       "  </thead>\n",
       "  <tbody>\n",
       "    <tr>\n",
       "      <th>0</th>\n",
       "      <td>1999</td>\n",
       "      <td>19203</td>\n",
       "      <td>825</td>\n",
       "      <td>6178</td>\n",
       "      <td>1658</td>\n",
       "    </tr>\n",
       "    <tr>\n",
       "      <th>1</th>\n",
       "      <td>2000</td>\n",
       "      <td>19152</td>\n",
       "      <td>822</td>\n",
       "      <td>5507</td>\n",
       "      <td>1737</td>\n",
       "    </tr>\n",
       "    <tr>\n",
       "      <th>2</th>\n",
       "      <td>2001</td>\n",
       "      <td>19083</td>\n",
       "      <td>958</td>\n",
       "      <td>7064</td>\n",
       "      <td>1891</td>\n",
       "    </tr>\n",
       "    <tr>\n",
       "      <th>3</th>\n",
       "      <td>2002</td>\n",
       "      <td>19378</td>\n",
       "      <td>977</td>\n",
       "      <td>7337</td>\n",
       "      <td>2088</td>\n",
       "    </tr>\n",
       "    <tr>\n",
       "      <th>4</th>\n",
       "      <td>2003</td>\n",
       "      <td>19508</td>\n",
       "      <td>901</td>\n",
       "      <td>6952</td>\n",
       "      <td>2618</td>\n",
       "    </tr>\n",
       "    <tr>\n",
       "      <th>5</th>\n",
       "      <td>2004</td>\n",
       "      <td>166925</td>\n",
       "      <td>949</td>\n",
       "      <td>18349</td>\n",
       "      <td>2615</td>\n",
       "    </tr>\n",
       "    <tr>\n",
       "      <th>6</th>\n",
       "      <td>2005</td>\n",
       "      <td>174000</td>\n",
       "      <td>898</td>\n",
       "      <td>20344</td>\n",
       "      <td>2732</td>\n",
       "    </tr>\n",
       "    <tr>\n",
       "      <th>7</th>\n",
       "      <td>2006</td>\n",
       "      <td>172553</td>\n",
       "      <td>920</td>\n",
       "      <td>21877</td>\n",
       "      <td>2801</td>\n",
       "    </tr>\n",
       "    <tr>\n",
       "      <th>8</th>\n",
       "      <td>2007</td>\n",
       "      <td>173446</td>\n",
       "      <td>917</td>\n",
       "      <td>23054</td>\n",
       "      <td>2968</td>\n",
       "    </tr>\n",
       "    <tr>\n",
       "      <th>9</th>\n",
       "      <td>2008</td>\n",
       "      <td>183090</td>\n",
       "      <td>952</td>\n",
       "      <td>28021</td>\n",
       "      <td>3045</td>\n",
       "    </tr>\n",
       "    <tr>\n",
       "      <th>10</th>\n",
       "      <td>2009</td>\n",
       "      <td>192390</td>\n",
       "      <td>962</td>\n",
       "      <td>28890</td>\n",
       "      <td>3082</td>\n",
       "    </tr>\n",
       "    <tr>\n",
       "      <th>11</th>\n",
       "      <td>2010</td>\n",
       "      <td>231065</td>\n",
       "      <td>968</td>\n",
       "      <td>29459</td>\n",
       "      <td>3120</td>\n",
       "    </tr>\n",
       "    <tr>\n",
       "      <th>12</th>\n",
       "      <td>2011</td>\n",
       "      <td>244208</td>\n",
       "      <td>937</td>\n",
       "      <td>28102</td>\n",
       "      <td>3115</td>\n",
       "    </tr>\n",
       "    <tr>\n",
       "      <th>13</th>\n",
       "      <td>2012</td>\n",
       "      <td>257211</td>\n",
       "      <td>983</td>\n",
       "      <td>28033</td>\n",
       "      <td>3169</td>\n",
       "    </tr>\n",
       "    <tr>\n",
       "      <th>14</th>\n",
       "      <td>2013</td>\n",
       "      <td>271043</td>\n",
       "      <td>982</td>\n",
       "      <td>29355</td>\n",
       "      <td>3294</td>\n",
       "    </tr>\n",
       "    <tr>\n",
       "      <th>15</th>\n",
       "      <td>2014</td>\n",
       "      <td>297865</td>\n",
       "      <td>991</td>\n",
       "      <td>29626</td>\n",
       "      <td>3409</td>\n",
       "    </tr>\n",
       "    <tr>\n",
       "      <th>16</th>\n",
       "      <td>2015</td>\n",
       "      <td>314780</td>\n",
       "      <td>980</td>\n",
       "      <td>29376</td>\n",
       "      <td>3390</td>\n",
       "    </tr>\n",
       "    <tr>\n",
       "      <th>17</th>\n",
       "      <td>2016</td>\n",
       "      <td>328723</td>\n",
       "      <td>1041</td>\n",
       "      <td>28317</td>\n",
       "      <td>3318</td>\n",
       "    </tr>\n",
       "    <tr>\n",
       "      <th>18</th>\n",
       "      <td>2017</td>\n",
       "      <td>337938</td>\n",
       "      <td>711</td>\n",
       "      <td>25982</td>\n",
       "      <td>2069</td>\n",
       "    </tr>\n",
       "  </tbody>\n",
       "</table>\n",
       "</div>"
      ],
      "text/plain": [
       "    serie  total_servidores_mec  total_servidores_mec_das  \\\n",
       "0    1999                 19203                       825   \n",
       "1    2000                 19152                       822   \n",
       "2    2001                 19083                       958   \n",
       "3    2002                 19378                       977   \n",
       "4    2003                 19508                       901   \n",
       "5    2004                166925                       949   \n",
       "6    2005                174000                       898   \n",
       "7    2006                172553                       920   \n",
       "8    2007                173446                       917   \n",
       "9    2008                183090                       952   \n",
       "10   2009                192390                       962   \n",
       "11   2010                231065                       968   \n",
       "12   2011                244208                       937   \n",
       "13   2012                257211                       983   \n",
       "14   2013                271043                       982   \n",
       "15   2014                297865                       991   \n",
       "16   2015                314780                       980   \n",
       "17   2016                328723                      1041   \n",
       "18   2017                337938                       711   \n",
       "\n",
       "    total_servidores_pr  total_servidores_pr_das  \n",
       "0                  6178                     1658  \n",
       "1                  5507                     1737  \n",
       "2                  7064                     1891  \n",
       "3                  7337                     2088  \n",
       "4                  6952                     2618  \n",
       "5                 18349                     2615  \n",
       "6                 20344                     2732  \n",
       "7                 21877                     2801  \n",
       "8                 23054                     2968  \n",
       "9                 28021                     3045  \n",
       "10                28890                     3082  \n",
       "11                29459                     3120  \n",
       "12                28102                     3115  \n",
       "13                28033                     3169  \n",
       "14                29355                     3294  \n",
       "15                29626                     3409  \n",
       "16                29376                     3390  \n",
       "17                28317                     3318  \n",
       "18                25982                     2069  "
      ]
     },
     "execution_count": 74,
     "metadata": {},
     "output_type": "execute_result"
    }
   ],
   "source": [
    "cel_data"
   ]
  },
  {
   "cell_type": "code",
   "execution_count": 75,
   "metadata": {},
   "outputs": [
    {
     "data": {
      "text/plain": [
       "['serie',\n",
       " 'total_servidores_mec',\n",
       " 'total_servidores_mec_das',\n",
       " 'total_servidores_pr',\n",
       " 'total_servidores_pr_das']"
      ]
     },
     "execution_count": 75,
     "metadata": {},
     "output_type": "execute_result"
    }
   ],
   "source": [
    "column_names"
   ]
  },
  {
   "cell_type": "markdown",
   "metadata": {},
   "source": [
    "## Gráficos sobre os dados originais"
   ]
  },
  {
   "cell_type": "markdown",
   "metadata": {},
   "source": [
    "### Total de servidores públicos ativos do Ministério da Educação entre 1999 e 2017"
   ]
  },
  {
   "cell_type": "code",
   "execution_count": 277,
   "metadata": {},
   "outputs": [
    {
     "data": {
      "text/plain": [
       "<seaborn.axisgrid.FacetGrid at 0x7f0910101a20>"
      ]
     },
     "execution_count": 277,
     "metadata": {},
     "output_type": "execute_result"
    },
    {
     "data": {
      "image/png": "[encoded data removed]",
      "text/plain": [
       "<Figure size 612x360 with 1 Axes>"
      ]
     },
     "metadata": {
      "needs_background": "light"
     },
     "output_type": "display_data"
    }
   ],
   "source": [
    "result_mec = sns.catplot(x=\"serie\",\n",
    "                         y=\"total_servidores_mec\",\n",
    "                         kind=\"bar\",\n",
    "                         aspect=1.7,\n",
    "                         palette=\"cividis\",\n",
    "                         data=cel_data)\n",
    "result_mec"
   ]
  },
  {
   "cell_type": "markdown",
   "metadata": {},
   "source": [
    "### Total de servidores do tipo DAS do Ministério da Educação entre 1999 e 2017"
   ]
  },
  {
   "cell_type": "code",
   "execution_count": 276,
   "metadata": {},
   "outputs": [
    {
     "data": {
      "text/plain": [
       "<seaborn.axisgrid.FacetGrid at 0x7f09101f2f60>"
      ]
     },
     "execution_count": 276,
     "metadata": {},
     "output_type": "execute_result"
    },
    {
     "data": {
      "image/png": "[encoded data removed]",
      "text/plain": [
       "<Figure size 612x360 with 1 Axes>"
      ]
     },
     "metadata": {
      "needs_background": "light"
     },
     "output_type": "display_data"
    }
   ],
   "source": [
    "result_mec_das = sns.catplot(x=\"serie\",\n",
    "                             y=\"total_servidores_mec_das\",\n",
    "                             kind=\"bar\",\n",
    "                             aspect=1.7,\n",
    "                             palette=\"cividis\",\n",
    "                             data=cel_data)\n",
    "result_mec_das"
   ]
  },
  {
   "cell_type": "markdown",
   "metadata": {},
   "source": [
    "### Total de servidores públicos ativos da Presidência da República entre 1999 e 2017"
   ]
  },
  {
   "cell_type": "code",
   "execution_count": 260,
   "metadata": {},
   "outputs": [
    {
     "data": {
      "text/plain": [
       "<seaborn.axisgrid.FacetGrid at 0x7f091041fcf8>"
      ]
     },
     "execution_count": 260,
     "metadata": {},
     "output_type": "execute_result"
    },
    {
     "data": {
      "image/png": "[encoded data removed]",
      "text/plain": [
       "<Figure size 612x360 with 1 Axes>"
      ]
     },
     "metadata": {
      "needs_background": "light"
     },
     "output_type": "display_data"
    }
   ],
   "source": [
    "result_pr = sns.catplot(x=\"serie\",\n",
    "                        y=\"total_servidores_pr\",\n",
    "                        kind=\"bar\",\n",
    "                        aspect=1.7,\n",
    "                        palette=\"YlGnBu_d\",\n",
    "                        data=cel_data)\n",
    "result_pr"
   ]
  },
  {
   "cell_type": "markdown",
   "metadata": {},
   "source": [
    "### Total de servidores do tipo DAS da Presidência da República entre 1999 e 2017"
   ]
  },
  {
   "cell_type": "code",
   "execution_count": 280,
   "metadata": {},
   "outputs": [
    {
     "data": {
      "text/plain": [
       "<seaborn.axisgrid.FacetGrid at 0x7f090e68e3c8>"
      ]
     },
     "execution_count": 280,
     "metadata": {},
     "output_type": "execute_result"
    },
    {
     "data": {
      "image/png": "[encoded data removed]",
      "text/plain": [
       "<Figure size 612x360 with 1 Axes>"
      ]
     },
     "metadata": {
      "needs_background": "light"
     },
     "output_type": "display_data"
    }
   ],
   "source": [
    "result_pr_das = sns.catplot(x=\"serie\",\n",
    "                            y=\"total_servidores_pr_das\",\n",
    "                            kind=\"bar\",\n",
    "                            aspect=1.7,\n",
    "                            palette=\"YlGnBu_d\",\n",
    "                            data=cel_data)\n",
    "result_pr_das"
   ]
  },
  {
   "cell_type": "markdown",
   "metadata": {},
   "source": [
    "## Filtro dos dados originais para futura comparação"
   ]
  },
  {
   "cell_type": "markdown",
   "metadata": {},
   "source": [
    "### Dataframe com servidores ativos do MEC e PR de 99-17"
   ]
  },
  {
   "cell_type": "code",
   "execution_count": 256,
   "metadata": {},
   "outputs": [
    {
     "data": {
      "text/html": [
       "<div>\n",
       "<style scoped>\n",
       "    .dataframe tbody tr th:only-of-type {\n",
       "        vertical-align: middle;\n",
       "    }\n",
       "\n",
       "    .dataframe tbody tr th {\n",
       "        vertical-align: top;\n",
       "    }\n",
       "\n",
       "    .dataframe thead th {\n",
       "        text-align: right;\n",
       "    }\n",
       "</style>\n",
       "<table border=\"1\" class=\"dataframe\">\n",
       "  <thead>\n",
       "    <tr style=\"text-align: right;\">\n",
       "      <th></th>\n",
       "      <th>total_servidores_mec</th>\n",
       "      <th>total_servidores_pr</th>\n",
       "    </tr>\n",
       "    <tr>\n",
       "      <th>serie</th>\n",
       "      <th></th>\n",
       "      <th></th>\n",
       "    </tr>\n",
       "  </thead>\n",
       "  <tbody>\n",
       "    <tr>\n",
       "      <th>1999</th>\n",
       "      <td>19203</td>\n",
       "      <td>6178</td>\n",
       "    </tr>\n",
       "    <tr>\n",
       "      <th>2000</th>\n",
       "      <td>19152</td>\n",
       "      <td>5507</td>\n",
       "    </tr>\n",
       "    <tr>\n",
       "      <th>2001</th>\n",
       "      <td>19083</td>\n",
       "      <td>7064</td>\n",
       "    </tr>\n",
       "    <tr>\n",
       "      <th>2002</th>\n",
       "      <td>19378</td>\n",
       "      <td>7337</td>\n",
       "    </tr>\n",
       "    <tr>\n",
       "      <th>2003</th>\n",
       "      <td>19508</td>\n",
       "      <td>6952</td>\n",
       "    </tr>\n",
       "    <tr>\n",
       "      <th>2004</th>\n",
       "      <td>166925</td>\n",
       "      <td>18349</td>\n",
       "    </tr>\n",
       "    <tr>\n",
       "      <th>2005</th>\n",
       "      <td>174000</td>\n",
       "      <td>20344</td>\n",
       "    </tr>\n",
       "    <tr>\n",
       "      <th>2006</th>\n",
       "      <td>172553</td>\n",
       "      <td>21877</td>\n",
       "    </tr>\n",
       "    <tr>\n",
       "      <th>2007</th>\n",
       "      <td>173446</td>\n",
       "      <td>23054</td>\n",
       "    </tr>\n",
       "    <tr>\n",
       "      <th>2008</th>\n",
       "      <td>183090</td>\n",
       "      <td>28021</td>\n",
       "    </tr>\n",
       "    <tr>\n",
       "      <th>2009</th>\n",
       "      <td>192390</td>\n",
       "      <td>28890</td>\n",
       "    </tr>\n",
       "    <tr>\n",
       "      <th>2010</th>\n",
       "      <td>231065</td>\n",
       "      <td>29459</td>\n",
       "    </tr>\n",
       "    <tr>\n",
       "      <th>2011</th>\n",
       "      <td>244208</td>\n",
       "      <td>28102</td>\n",
       "    </tr>\n",
       "    <tr>\n",
       "      <th>2012</th>\n",
       "      <td>257211</td>\n",
       "      <td>28033</td>\n",
       "    </tr>\n",
       "    <tr>\n",
       "      <th>2013</th>\n",
       "      <td>271043</td>\n",
       "      <td>29355</td>\n",
       "    </tr>\n",
       "    <tr>\n",
       "      <th>2014</th>\n",
       "      <td>297865</td>\n",
       "      <td>29626</td>\n",
       "    </tr>\n",
       "    <tr>\n",
       "      <th>2015</th>\n",
       "      <td>314780</td>\n",
       "      <td>29376</td>\n",
       "    </tr>\n",
       "    <tr>\n",
       "      <th>2016</th>\n",
       "      <td>328723</td>\n",
       "      <td>28317</td>\n",
       "    </tr>\n",
       "    <tr>\n",
       "      <th>2017</th>\n",
       "      <td>337938</td>\n",
       "      <td>25982</td>\n",
       "    </tr>\n",
       "  </tbody>\n",
       "</table>\n",
       "</div>"
      ],
      "text/plain": [
       "       total_servidores_mec  total_servidores_pr\n",
       "serie                                           \n",
       "1999                  19203                 6178\n",
       "2000                  19152                 5507\n",
       "2001                  19083                 7064\n",
       "2002                  19378                 7337\n",
       "2003                  19508                 6952\n",
       "2004                 166925                18349\n",
       "2005                 174000                20344\n",
       "2006                 172553                21877\n",
       "2007                 173446                23054\n",
       "2008                 183090                28021\n",
       "2009                 192390                28890\n",
       "2010                 231065                29459\n",
       "2011                 244208                28102\n",
       "2012                 257211                28033\n",
       "2013                 271043                29355\n",
       "2014                 297865                29626\n",
       "2015                 314780                29376\n",
       "2016                 328723                28317\n",
       "2017                 337938                25982"
      ]
     },
     "execution_count": 256,
     "metadata": {},
     "output_type": "execute_result"
    }
   ],
   "source": [
    "#criando o dataframe para unir as colunas\n",
    "totais_serv_gerais = cel_data[[\"serie\",\"total_servidores_mec\",\"total_servidores_pr\"]]\n",
    "totais_serv_gerais.set_index(\"serie\", inplace=True)\n",
    "totais_serv_gerais"
   ]
  },
  {
   "cell_type": "markdown",
   "metadata": {},
   "source": [
    "### Gráfico: Totais de servidores ativos por órgão superior: MEC e PR"
   ]
  },
  {
   "cell_type": "code",
   "execution_count": 257,
   "metadata": {},
   "outputs": [
    {
     "data": {
      "text/plain": [
       "<matplotlib.axes._subplots.AxesSubplot at 0x7f091050b128>"
      ]
     },
     "execution_count": 257,
     "metadata": {},
     "output_type": "execute_result"
    },
    {
     "data": {
      "image/png": "[encoded data removed]",
      "text/plain": [
       "<Figure size 432x288 with 1 Axes>"
      ]
     },
     "metadata": {
      "needs_background": "light"
     },
     "output_type": "display_data"
    }
   ],
   "source": [
    "result_totais_serv = sns.lineplot(data=totais_serv_gerais,\n",
    "                                  markers=True,\n",
    "                                  palette=\"twilight\",\n",
    "                                  legend=\"full\")\n",
    "result_totais_serv"
   ]
  },
  {
   "cell_type": "markdown",
   "metadata": {},
   "source": [
    "### Dataframe com servidores DAS do MEC e PR de 99-17"
   ]
  },
  {
   "cell_type": "code",
   "execution_count": 251,
   "metadata": {},
   "outputs": [
    {
     "data": {
      "text/html": [
       "<div>\n",
       "<style scoped>\n",
       "    .dataframe tbody tr th:only-of-type {\n",
       "        vertical-align: middle;\n",
       "    }\n",
       "\n",
       "    .dataframe tbody tr th {\n",
       "        vertical-align: top;\n",
       "    }\n",
       "\n",
       "    .dataframe thead th {\n",
       "        text-align: right;\n",
       "    }\n",
       "</style>\n",
       "<table border=\"1\" class=\"dataframe\">\n",
       "  <thead>\n",
       "    <tr style=\"text-align: right;\">\n",
       "      <th></th>\n",
       "      <th>total_servidores_mec_das</th>\n",
       "      <th>total_servidores_pr_das</th>\n",
       "    </tr>\n",
       "    <tr>\n",
       "      <th>serie</th>\n",
       "      <th></th>\n",
       "      <th></th>\n",
       "    </tr>\n",
       "  </thead>\n",
       "  <tbody>\n",
       "    <tr>\n",
       "      <th>1999</th>\n",
       "      <td>825</td>\n",
       "      <td>1658</td>\n",
       "    </tr>\n",
       "    <tr>\n",
       "      <th>2000</th>\n",
       "      <td>822</td>\n",
       "      <td>1737</td>\n",
       "    </tr>\n",
       "    <tr>\n",
       "      <th>2001</th>\n",
       "      <td>958</td>\n",
       "      <td>1891</td>\n",
       "    </tr>\n",
       "    <tr>\n",
       "      <th>2002</th>\n",
       "      <td>977</td>\n",
       "      <td>2088</td>\n",
       "    </tr>\n",
       "    <tr>\n",
       "      <th>2003</th>\n",
       "      <td>901</td>\n",
       "      <td>2618</td>\n",
       "    </tr>\n",
       "    <tr>\n",
       "      <th>2004</th>\n",
       "      <td>949</td>\n",
       "      <td>2615</td>\n",
       "    </tr>\n",
       "    <tr>\n",
       "      <th>2005</th>\n",
       "      <td>898</td>\n",
       "      <td>2732</td>\n",
       "    </tr>\n",
       "    <tr>\n",
       "      <th>2006</th>\n",
       "      <td>920</td>\n",
       "      <td>2801</td>\n",
       "    </tr>\n",
       "    <tr>\n",
       "      <th>2007</th>\n",
       "      <td>917</td>\n",
       "      <td>2968</td>\n",
       "    </tr>\n",
       "    <tr>\n",
       "      <th>2008</th>\n",
       "      <td>952</td>\n",
       "      <td>3045</td>\n",
       "    </tr>\n",
       "    <tr>\n",
       "      <th>2009</th>\n",
       "      <td>962</td>\n",
       "      <td>3082</td>\n",
       "    </tr>\n",
       "    <tr>\n",
       "      <th>2010</th>\n",
       "      <td>968</td>\n",
       "      <td>3120</td>\n",
       "    </tr>\n",
       "    <tr>\n",
       "      <th>2011</th>\n",
       "      <td>937</td>\n",
       "      <td>3115</td>\n",
       "    </tr>\n",
       "    <tr>\n",
       "      <th>2012</th>\n",
       "      <td>983</td>\n",
       "      <td>3169</td>\n",
       "    </tr>\n",
       "    <tr>\n",
       "      <th>2013</th>\n",
       "      <td>982</td>\n",
       "      <td>3294</td>\n",
       "    </tr>\n",
       "    <tr>\n",
       "      <th>2014</th>\n",
       "      <td>991</td>\n",
       "      <td>3409</td>\n",
       "    </tr>\n",
       "    <tr>\n",
       "      <th>2015</th>\n",
       "      <td>980</td>\n",
       "      <td>3390</td>\n",
       "    </tr>\n",
       "    <tr>\n",
       "      <th>2016</th>\n",
       "      <td>1041</td>\n",
       "      <td>3318</td>\n",
       "    </tr>\n",
       "    <tr>\n",
       "      <th>2017</th>\n",
       "      <td>711</td>\n",
       "      <td>2069</td>\n",
       "    </tr>\n",
       "  </tbody>\n",
       "</table>\n",
       "</div>"
      ],
      "text/plain": [
       "       total_servidores_mec_das  total_servidores_pr_das\n",
       "serie                                                   \n",
       "1999                        825                     1658\n",
       "2000                        822                     1737\n",
       "2001                        958                     1891\n",
       "2002                        977                     2088\n",
       "2003                        901                     2618\n",
       "2004                        949                     2615\n",
       "2005                        898                     2732\n",
       "2006                        920                     2801\n",
       "2007                        917                     2968\n",
       "2008                        952                     3045\n",
       "2009                        962                     3082\n",
       "2010                        968                     3120\n",
       "2011                        937                     3115\n",
       "2012                        983                     3169\n",
       "2013                        982                     3294\n",
       "2014                        991                     3409\n",
       "2015                        980                     3390\n",
       "2016                       1041                     3318\n",
       "2017                        711                     2069"
      ]
     },
     "execution_count": 251,
     "metadata": {},
     "output_type": "execute_result"
    }
   ],
   "source": [
    "totais_serv_das = cel_data[[\"serie\",\"total_servidores_mec_das\",\"total_servidores_pr_das\"]]\n",
    "totais_serv_das.set_index(\"serie\", inplace=True)\n",
    "totais_serv_das"
   ]
  },
  {
   "cell_type": "markdown",
   "metadata": {},
   "source": [
    "### Gráfico: Totais de servidores DAS por órgão superior: MEC e PR de 99-17"
   ]
  },
  {
   "cell_type": "code",
   "execution_count": 258,
   "metadata": {},
   "outputs": [
    {
     "data": {
      "image/png": "[encoded data removed]",
      "text/plain": [
       "<Figure size 432x288 with 1 Axes>"
      ]
     },
     "metadata": {
      "needs_background": "light"
     },
     "output_type": "display_data"
    }
   ],
   "source": [
    "result_totais_das = sns.lineplot(data=totais_serv_das,\n",
    "                                 markers=True,\n",
    "                                palette=\"twilight\",\n",
    "                                legend=\"full\")"
   ]
  }
 ],
 "metadata": {
  "kernelspec": {
   "display_name": "Python 3",
   "language": "python",
   "name": "python3"
  },
  "language_info": {
   "codemirror_mode": {
    "name": "ipython",
    "version": 3
   },
   "file_extension": ".py",
   "mimetype": "text/x-python",
   "name": "python",
   "nbconvert_exporter": "python",
   "pygments_lexer": "ipython3",
   "version": "3.5.2"
  }
 },
 "nbformat": 4,
 "nbformat_minor": 2
}
